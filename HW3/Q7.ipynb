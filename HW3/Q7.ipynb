{
 "cells": [
  {
   "cell_type": "code",
   "execution_count": 1,
   "metadata": {},
   "outputs": [],
   "source": [
    "import numpy as np\n",
    "import random\n",
    "import matplotlib.pyplot as plt"
   ]
  },
  {
   "cell_type": "code",
   "execution_count": 2,
   "metadata": {},
   "outputs": [],
   "source": [
    "# Define parameters\n",
    "alpha = 0.5\n",
    "epsilon = 0.1\n",
    "discount = 1\n",
    "num_episodes = 1000\n",
    "num_rows = 5\n",
    "num_cols = 10\n",
    "num_states = num_rows * num_cols\n",
    "num_runs = 100\n",
    "destination = (num_rows-1, num_cols-1)\n",
    "source = (num_rows-1, 0)\n",
    "num_actions = 4"
   ]
  },
  {
   "cell_type": "code",
   "execution_count": 3,
   "metadata": {},
   "outputs": [],
   "source": [
    "# Epsilon greedy action selection\n",
    "def epsilon_greedy(Q, state):\n",
    "    val = random.uniform(0, 1)\n",
    "    Qvals = Q[state[0], state[1]]\n",
    "    if val > epsilon:\n",
    "        action = np.argmax(Qvals)\n",
    "    else:\n",
    "        action = random.randint(0, num_actions - 1)\n",
    "    return action"
   ]
  },
  {
   "cell_type": "code",
   "execution_count": 4,
   "metadata": {},
   "outputs": [],
   "source": [
    "def nowatcliff(i, j):\n",
    "    # Check if i,j is on the cliff, then return True\n",
    "    if i == num_rows - 1 and j > 0 and j < num_cols - 1:\n",
    "        return True\n",
    "    return False\n",
    "\n",
    "def nowatdest(i, j):\n",
    "    # Check if i,j is the destination cell\n",
    "    if i == num_rows - 1 and j == num_cols - 1:\n",
    "        return True\n",
    "    return False"
   ]
  },
  {
   "cell_type": "code",
   "execution_count": 5,
   "metadata": {},
   "outputs": [],
   "source": [
    "# Take a from state s and return new state and reward\n",
    "def step(s, a):\n",
    "    i, j = s\n",
    "    if a == 0: # Up\n",
    "        if i - 1 >= 0:\n",
    "            i = i - 1\n",
    "        news, rew = (i, j), -1\n",
    "    elif a == 1: # Down\n",
    "        if i + 1 < num_rows:\n",
    "            i = i + 1\n",
    "        news, rew = (i, j), -1\n",
    "    elif a == 2: # Right\n",
    "        if j + 1 < num_cols:\n",
    "            j = j + 1\n",
    "        news, rew = (i,j), -1\n",
    "    elif a == 3: # Left\n",
    "        if j - 1 >= 0:\n",
    "            j = j - 1\n",
    "        news, rew =  (i,j), -1\n",
    "    \n",
    "    if nowatcliff(i, j):\n",
    "        return source, -80\n",
    "    if nowatdest(i, j):\n",
    "        return news, -1\n",
    "    \n",
    "    return news, rew"
   ]
  },
  {
   "cell_type": "code",
   "execution_count": 6,
   "metadata": {},
   "outputs": [],
   "source": [
    "# Perform Q learning\n",
    "def Q_learning():\n",
    "    total_reward = 0\n",
    "    state = source\n",
    "    while(state != destination):\n",
    "        action = epsilon_greedy(Q_qlearning, state)\n",
    "        next_state, reward = step(state, action)\n",
    "        total_reward += reward\n",
    "        # a' is greedy action\n",
    "        next_action = np.argmax(Q_qlearning[next_state[0], next_state[1]])\n",
    "        # Update Q\n",
    "        Q_qlearning[state[0], state[1], action] += alpha * ((reward + discount * Q_qlearning[next_state[0], next_state[1], next_action]) - Q_qlearning[state[0], state[1], action])\n",
    "        state = next_state\n",
    "    # Clip reward \n",
    "    return max(total_reward, -100)"
   ]
  },
  {
   "cell_type": "code",
   "execution_count": 7,
   "metadata": {},
   "outputs": [],
   "source": [
    "def SARSA():\n",
    "    total_reward = 0\n",
    "    state = source\n",
    "    action = epsilon_greedy(Q_sarsa, state)\n",
    "    while(state != destination):\n",
    "        next_state, reward = step(state, action)\n",
    "        total_reward += reward\n",
    "        # a' is chosen using epsilon greedy\n",
    "        next_action = epsilon_greedy(Q_sarsa, next_state)\n",
    "        # Update Q\n",
    "        Q_sarsa[state[0], state[1], action] += alpha * ((reward + discount * Q_sarsa[next_state[0], next_state[1], next_action]) - Q_sarsa[state[0], state[1], action])\n",
    "        action = next_action\n",
    "        state = next_state\n",
    "    return max(total_reward, -100)"
   ]
  },
  {
   "cell_type": "code",
   "execution_count": 8,
   "metadata": {},
   "outputs": [
    {
     "data": {
      "text/plain": [
       "<matplotlib.legend.Legend at 0x1b4a0f18278>"
      ]
     },
     "execution_count": 8,
     "metadata": {},
     "output_type": "execute_result"
    },
    {
     "name": "stdout",
     "output_type": "stream",
     "text": [
      "[[334.8    0.    54.  ]\n",
      " [  0.   217.44  36.  ]\n",
      " [  0.     0.     1.  ]]\n",
      "[[9.10000910e-04 0.00000000e+00 4.54545455e-02]\n",
      " [0.00000000e+00 1.11929440e-02 1.16474894e+00]\n",
      " [0.00000000e+00 0.00000000e+00 1.00000000e+00]]\n",
      "[[1. 0. 0.]\n",
      " [0. 1. 0.]\n",
      " [0. 0. 1.]]\n",
      "[[334.8    0.    54.  ]\n",
      " [  0.   217.44  36.  ]\n",
      " [  0.     0.     1.  ]]\n",
      "[[334.8    0.    41.45]\n",
      " [  0.   217.44  24.2 ]\n",
      " [  0.     0.     1.  ]]\n"
     ]
    },
    {
     "data": {
      "image/png": "[encoded data removed]",
      "text/plain": [
       "<Figure size 432x288 with 1 Axes>"
      ]
     },
     "metadata": {},
     "output_type": "display_data"
    }
   ],
   "source": [
    "total_reward_sarsa_runs = np.zeros(num_episodes)\n",
    "total_reward_qlearning_runs = np.zeros(num_episodes)\n",
    "\n",
    "# Simulate different runs\n",
    "for run in range(num_runs):\n",
    "    Q_sarsa = np.random.rand(num_rows, num_cols, num_actions)\n",
    "    Q_qlearning = np.random.rand(num_rows, num_cols, num_actions)\n",
    "\n",
    "    total_reward_sarsa = np.zeros(num_episodes)\n",
    "    total_reward_qlearning = np.zeros(num_episodes)\n",
    "\n",
    "    for i in range(num_episodes):\n",
    "        res1 = SARSA()\n",
    "        total_reward_sarsa[i] = res1\n",
    "        res2 = Q_learning()\n",
    "        total_reward_qlearning[i] = res2\n",
    "    \n",
    "    total_reward_sarsa_runs += total_reward_sarsa\n",
    "    total_reward_qlearning_runs += total_reward_qlearning\n",
    "\n",
    "#print(total_reward_sarsa_runs/num_runs, total_reward_qlearning_runs/num_runs)\n",
    "plt.figure()\n",
    "plt.plot(total_reward_sarsa_runs/num_runs, label=\"SARSA\")\n",
    "plt.plot(total_reward_qlearning_runs/num_runs, label=\"Q Learning\")\n",
    "plt.legend()"
   ]
  },
  {
   "cell_type": "code",
   "execution_count": null,
   "metadata": {},
   "outputs": [],
   "source": []
  }
 ],
 "metadata": {
  "kernelspec": {
   "display_name": "Python 3",
   "language": "python",
   "name": "python3"
  },
  "language_info": {
   "codemirror_mode": {
    "name": "ipython",
    "version": 3
   },
   "file_extension": ".py",
   "mimetype": "text/x-python",
   "name": "python",
   "nbconvert_exporter": "python",
   "pygments_lexer": "ipython3",
   "version": "3.5.2"
  }
 },
 "nbformat": 4,
 "nbformat_minor": 2
}
