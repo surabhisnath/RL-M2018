{
 "cells": [
  {
   "cell_type": "code",
   "execution_count": 242,
   "metadata": {},
   "outputs": [],
   "source": [
    "import numpy as np\n",
    "import os\n",
    "import math\n",
    "import random"
   ]
  },
  {
   "cell_type": "code",
   "execution_count": 243,
   "metadata": {},
   "outputs": [],
   "source": [
    "# Gridworld\n",
    "rows = 4\n",
    "cols = 4\n",
    "num_states = rows * cols\n",
    "action = [\"Up\", \"Down\", \"Right\", \"Left\"]\n",
    "num_actions = 4\n",
    "lim = 0.00001"
   ]
  },
  {
   "cell_type": "code",
   "execution_count": 244,
   "metadata": {},
   "outputs": [],
   "source": [
    "#Perform policy evaluation\n",
    "def policy_evaluation(V, policy):\n",
    "    cnt = 0\n",
    "    while(1):\n",
    "        delta = 0\n",
    "        for s in range(1, num_states-1):\n",
    "            oldV = V[s]\n",
    "            newV = 0\n",
    "            news = 1000000\n",
    "            for a in range(num_actions):\n",
    "                r = s // cols\n",
    "                c = s % cols\n",
    "                if a == 0 and r - 1 >= 0:\n",
    "                        news = (r - 1) * cols + c\n",
    "                elif a == 1 and r + 1 < rows:\n",
    "                        news = (r + 1) * cols + c\n",
    "                elif a == 2 and c + 1 < cols:\n",
    "                        news = r*cols + c + 1\n",
    "                elif a == 3 and c - 1 >= 0:\n",
    "                        news = r*cols + c - 1\n",
    "                else:\n",
    "                    news = s\n",
    "\n",
    "                newV = newV + policy[s,a] * (-1 + V[news])\n",
    "            V[s] = newV\n",
    "            delta = max(delta, np.abs(oldV - newV))\n",
    "        \n",
    "        cnt += 1\n",
    "        if delta < lim:\n",
    "            return V"
   ]
  },
  {
   "cell_type": "code",
   "execution_count": 245,
   "metadata": {},
   "outputs": [],
   "source": [
    "#Perform policy improvement\n",
    "def policy_improvement(V, policy):\n",
    "    policy_stable = True\n",
    "    for s in range(1, num_states-1):\n",
    "        currentpol_s = policy[s].copy()\n",
    "        \n",
    "        holder = np.zeros(num_actions)\n",
    "        for a in range(num_actions):\n",
    "            r = s // cols\n",
    "            c = s % cols\n",
    "            if a == 0 and r - 1 >= 0:\n",
    "                    news = (r - 1) * cols + c\n",
    "            elif a == 1 and r + 1 < rows:\n",
    "                    news = (r + 1) * cols + c\n",
    "            elif a == 2 and c + 1 < cols:\n",
    "                    news = r*cols + c + 1\n",
    "            elif a == 3 and c - 1 >= 0:\n",
    "                    news = r*cols + c - 1\n",
    "            else:\n",
    "                news = s\n",
    "            holder[a] = (-1 + V[news]) #Undiscounted\n",
    "\n",
    "        policy[s] = np.zeros(num_actions)\n",
    "        holder = np.round(holder,2)\n",
    "        maxval = max(holder)\n",
    "        freq = holder.tolist().count(maxval)\n",
    "\n",
    "        for l in range(num_actions):\n",
    "            if holder[l] == maxval:\n",
    "                policy[s, l] = 1/freq\n",
    "                \n",
    "                if currentpol_s[l] != policy[s, l]:\n",
    "                    policy_stable = False\n",
    "                    \n",
    "\n",
    "    return policy_stable, policy"
   ]
  },
  {
   "cell_type": "code",
   "execution_count": 246,
   "metadata": {},
   "outputs": [],
   "source": [
    "#Policy iteration successively calls policy evaluation and policy improvement till no change in updated policy\n",
    "def policy_iteration():\n",
    "    V = np.zeros(num_states)\n",
    "    policy = np.full((num_states, num_actions), 1/num_actions, dtype=float)\n",
    "    res = True\n",
    "    while(1):\n",
    "        V = policy_evaluation(V, policy)\n",
    "        res, policy = policy_improvement(V, policy)\n",
    "        if res == True:\n",
    "            break\n",
    "    return V, policy"
   ]
  },
  {
   "cell_type": "code",
   "execution_count": 247,
   "metadata": {
    "scrolled": true
   },
   "outputs": [],
   "source": [
    "V, policy = policy_iteration()"
   ]
  },
  {
   "cell_type": "code",
   "execution_count": 249,
   "metadata": {},
   "outputs": [
    {
     "name": "stdout",
     "output_type": "stream",
     "text": [
      "[ 0. -1. -2. -3. -1. -2. -3. -2. -2. -3. -2. -1. -3. -2. -1.  0.]\n",
      "[[0.25 0.25 0.25 0.25]\n",
      " [0.   0.   0.   1.  ]\n",
      " [0.   0.   0.   1.  ]\n",
      " [0.   0.5  0.   0.5 ]\n",
      " [1.   0.   0.   0.  ]\n",
      " [0.5  0.   0.   0.5 ]\n",
      " [0.25 0.25 0.25 0.25]\n",
      " [0.   1.   0.   0.  ]\n",
      " [1.   0.   0.   0.  ]\n",
      " [0.25 0.25 0.25 0.25]\n",
      " [0.   0.5  0.5  0.  ]\n",
      " [0.   1.   0.   0.  ]\n",
      " [0.5  0.   0.5  0.  ]\n",
      " [0.   0.   1.   0.  ]\n",
      " [0.   0.   1.   0.  ]\n",
      " [0.25 0.25 0.25 0.25]]\n"
     ]
    }
   ],
   "source": [
    "print(V)\n",
    "print(policy)"
   ]
  },
  {
   "cell_type": "markdown",
   "metadata": {},
   "source": [
    "## Value Iteration"
   ]
  },
  {
   "cell_type": "code",
   "execution_count": 239,
   "metadata": {},
   "outputs": [],
   "source": [
    "#Perform value iteration\n",
    "def value_iteration(V, policy):\n",
    "    V = np.zeros(num_states)\n",
    "    lim = 0.000001\n",
    "    \n",
    "    while(1):\n",
    "        delta = 0\n",
    "        for s in range(1, num_states-1):\n",
    "            oldV = V[s]\n",
    "            newV = -np.inf\n",
    "            for a in range(num_actions):\n",
    "                r = s // cols\n",
    "                c = s % cols\n",
    "                if a == 0 and r - 1 >= 0:\n",
    "                        news = (r - 1) * cols + c\n",
    "                elif a == 1 and r + 1 < rows:\n",
    "                        news = (r + 1) * cols + c\n",
    "                elif a == 2 and c + 1 < cols:\n",
    "                        news = r*cols + c + 1\n",
    "                elif a == 3 and c - 1 >= 0:\n",
    "                        news = r*cols + c - 1\n",
    "                else:\n",
    "                    news = s\n",
    "                newV = max(newV, (-1 + V[news]))\n",
    "            V[s] = newV\n",
    "            delta = max(delta, abs(oldV - newV))\n",
    "        \n",
    "        if delta < lim:\n",
    "            break\n",
    "    \n",
    "    policy = np.full((num_states, num_actions), 1/num_actions, dtype=float)\n",
    "    for s in range(1, num_states-1):\n",
    "        currentpol_s = policy[s].copy()\n",
    "        policy[s] = np.zeros(num_actions)\n",
    "        holder = np.zeros(num_actions)\n",
    "\n",
    "        for a in range(num_actions):\n",
    "            r = s // cols\n",
    "            c = s % cols\n",
    "            if a == 0 and r - 1 >= 0:\n",
    "                    news = (r - 1) * cols + c\n",
    "            elif a == 1 and r + 1 < rows:\n",
    "                    news = (r + 1) * cols + c\n",
    "            elif a == 2 and c + 1 < cols:\n",
    "                    news = r*cols + c + 1\n",
    "            elif a == 3 and c - 1 >= 0:\n",
    "                    news = r*cols + c - 1\n",
    "            else:\n",
    "                news = s\n",
    "            holder[a] =  (-1 + V[news])\n",
    "\n",
    "        maxval = max(holder)\n",
    "        freq = holder.tolist().count(maxval)\n",
    "        for l in range(num_actions):\n",
    "            if holder[l] == maxval:\n",
    "                policy[s, l] = 1/freq\n",
    "    \n",
    "    return V, policy"
   ]
  },
  {
   "cell_type": "code",
   "execution_count": 240,
   "metadata": {},
   "outputs": [],
   "source": [
    "V, policy = value_iteration(V, policy)"
   ]
  },
  {
   "cell_type": "code",
   "execution_count": 241,
   "metadata": {},
   "outputs": [
    {
     "name": "stdout",
     "output_type": "stream",
     "text": [
      "[ 0. -1. -2. -3. -1. -2. -3. -2. -2. -3. -2. -1. -3. -2. -1.  0.]\n",
      "[[0.25 0.25 0.25 0.25]\n",
      " [0.   0.   0.   1.  ]\n",
      " [0.   0.   0.   1.  ]\n",
      " [0.   0.5  0.   0.5 ]\n",
      " [1.   0.   0.   0.  ]\n",
      " [0.5  0.   0.   0.5 ]\n",
      " [0.25 0.25 0.25 0.25]\n",
      " [0.   1.   0.   0.  ]\n",
      " [1.   0.   0.   0.  ]\n",
      " [0.25 0.25 0.25 0.25]\n",
      " [0.   0.5  0.5  0.  ]\n",
      " [0.   1.   0.   0.  ]\n",
      " [0.5  0.   0.5  0.  ]\n",
      " [0.   0.   1.   0.  ]\n",
      " [0.   0.   1.   0.  ]\n",
      " [0.25 0.25 0.25 0.25]]\n"
     ]
    }
   ],
   "source": [
    "# On comparing Value iteration and Policy iteration, both result in same V and policy\n",
    "print(V)\n",
    "print(policy)"
   ]
  }
 ],
 "metadata": {
  "kernelspec": {
   "display_name": "Python 3",
   "language": "python",
   "name": "python3"
  },
  "language_info": {
   "codemirror_mode": {
    "name": "ipython",
    "version": 3
   },
   "file_extension": ".py",
   "mimetype": "text/x-python",
   "name": "python",
   "nbconvert_exporter": "python",
   "pygments_lexer": "ipython3",
   "version": "3.5.2"
  }
 },
 "nbformat": 4,
 "nbformat_minor": 2
}
