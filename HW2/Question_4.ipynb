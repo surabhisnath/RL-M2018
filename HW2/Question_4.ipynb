{
 "cells": [
  {
   "cell_type": "code",
   "execution_count": 2,
   "metadata": {},
   "outputs": [],
   "source": [
    "import numpy as np\n",
    "import os\n",
    "import math\n",
    "import random\n",
    "from scipy.optimize import linprog"
   ]
  },
  {
   "cell_type": "code",
   "execution_count": 3,
   "metadata": {},
   "outputs": [],
   "source": [
    "# Define the matrix and other constants\n",
    "rows = 5\n",
    "cols = 5\n",
    "num_states = rows * cols\n",
    "num_actions = 4\n",
    "A = np.zeros(shape=(num_actions*num_states, num_states))\n",
    "b = np.zeros(num_actions*num_states)\n",
    "discount = 0.9"
   ]
  },
  {
   "cell_type": "code",
   "execution_count": 119,
   "metadata": {},
   "outputs": [],
   "source": [
    "# Takes in current position/state and action number to return new position/state and corresponding reward\n",
    "def take_action(row, col, action):\n",
    "    if row == 0 and col == 1:\n",
    "        return 4, 1, 10\n",
    "    elif row == 0 and col == 3:\n",
    "        return 2, 3, 5\n",
    "    elif action == 0 and row - 1 >= 0: #Up\n",
    "        return row - 1, col, 0\n",
    "    elif action == 1 and row + 1 < rows: #Down\n",
    "        return row + 1, col, 0\n",
    "    elif action == 2 and col + 1 < cols:  #Right\n",
    "        return row, col + 1, 0\n",
    "    elif action == 3 and col - 1 >= 0: #Left\n",
    "        return row, col - 1, 0\n",
    "    else:\n",
    "        return row, col, -1"
   ]
  },
  {
   "cell_type": "code",
   "execution_count": 120,
   "metadata": {},
   "outputs": [],
   "source": [
    "# Here since to find V*, we need to take the action which maximizes the expression \n",
    "# Since max is a non linear function, we write it as 4 different equations\n",
    "# In this case we will need to optimize Ax >= b\n",
    "global_cnt = 0\n",
    "for r in range(rows):\n",
    "    for c in range(cols):\n",
    "        for a in range(num_actions):\n",
    "            # Get neighbour \n",
    "            newr, newc, reward = take_action(r, c, a)\n",
    "            if newr == r and newc == c:\n",
    "                A[global_cnt, cols * newr + newc] = - 1 + discount\n",
    "            else:\n",
    "                A[global_cnt, cols * r + c] = -1\n",
    "                A[global_cnt, cols * newr + newc] = discount\n",
    "            b[global_cnt] = reward\n",
    "            global_cnt += 1"
   ]
  },
  {
   "cell_type": "code",
   "execution_count": 121,
   "metadata": {},
   "outputs": [],
   "source": [
    "# Get solution using the linprog optimizer\n",
    "res = linprog(np.array([1]*num_states), A_ub=A, b_ub=-b)"
   ]
  },
  {
   "cell_type": "code",
   "execution_count": 127,
   "metadata": {},
   "outputs": [],
   "source": [
    "V = res.x"
   ]
  },
  {
   "cell_type": "code",
   "execution_count": 128,
   "metadata": {},
   "outputs": [],
   "source": [
    "# Print optimal policy\n",
    "d = {0:\"Up\", 1:\"Down\", 2:\"Right\", 3:\"Left\"}"
   ]
  },
  {
   "cell_type": "code",
   "execution_count": 138,
   "metadata": {},
   "outputs": [],
   "source": [
    "optim_policy = [\"\"]*num_states\n",
    "cnt = 0\n",
    "for i in range(rows):\n",
    "    for j in range(cols):\n",
    "        arr = []\n",
    "        for a in range(num_actions):\n",
    "            newr, newc, reward = take_action(i, j, a)\n",
    "            newstate = cols * newr + newc\n",
    "            val = V[newstate]\n",
    "            arr.append(val)\n",
    "        arr = np.round(arr,1)\n",
    "        maxval = max(arr)\n",
    "        directions = \"\"\n",
    "        for k in range(num_actions):\n",
    "            if arr[k] == maxval:\n",
    "                directions = directions + d[k] + \" \"\n",
    "        optim_policy[cnt] = directions\n",
    "        cnt += 1"
   ]
  },
  {
   "cell_type": "code",
   "execution_count": 139,
   "metadata": {},
   "outputs": [
    {
     "name": "stdout",
     "output_type": "stream",
     "text": [
      "[['Right ' 'Up Down Right Left ' 'Left ' 'Up Down Right Left ' 'Left ']\n",
      " ['Up Right ' 'Up ' 'Up Left ' 'Left ' 'Left ']\n",
      " ['Up Right ' 'Up ' 'Up Left ' 'Up Left ' 'Up Left ']\n",
      " ['Up Right ' 'Up ' 'Up Left ' 'Up Left ' 'Up Left ']\n",
      " ['Up Right ' 'Up ' 'Up Left ' 'Up Left ' 'Up Left ']]\n"
     ]
    }
   ],
   "source": [
    "optim_policy = np.array(optim_policy)\n",
    "print(optim_policy.reshape(rows, cols))"
   ]
  },
  {
   "cell_type": "code",
   "execution_count": null,
   "metadata": {},
   "outputs": [],
   "source": []
  }
 ],
 "metadata": {
  "kernelspec": {
   "display_name": "Python 3",
   "language": "python",
   "name": "python3"
  },
  "language_info": {
   "codemirror_mode": {
    "name": "ipython",
    "version": 3
   },
   "file_extension": ".py",
   "mimetype": "text/x-python",
   "name": "python",
   "nbconvert_exporter": "python",
   "pygments_lexer": "ipython3",
   "version": "3.5.2"
  }
 },
 "nbformat": 4,
 "nbformat_minor": 2
}
