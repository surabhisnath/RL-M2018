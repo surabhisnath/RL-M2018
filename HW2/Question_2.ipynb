{
 "cells": [
  {
   "cell_type": "code",
   "execution_count": 35,
   "metadata": {},
   "outputs": [],
   "source": [
    "import numpy as np\n",
    "import os\n",
    "import math\n",
    "import random"
   ]
  },
  {
   "cell_type": "code",
   "execution_count": 36,
   "metadata": {},
   "outputs": [],
   "source": [
    "# Define the matrix and other constants \n",
    "rows = 5\n",
    "cols = 5\n",
    "num_states = rows * cols\n",
    "action = {\"North\", \"South\", \"East\", \"West\"}\n",
    "num_actions = 4\n",
    "A = np.zeros(shape=(num_states, num_states))\n",
    "b = []\n",
    "discount = 0.9\n",
    "bforbetween = 0\n",
    "bforedge = 0.25\n",
    "bforcorner = 0.5 # (0.25 + 0.25)\n",
    "sp1 = 21\n",
    "sp2 = 13\n",
    "cornercoeff = discount * 0.5 - 1\n",
    "edgecoeff = discount * 0.25 - 1\n",
    "betweencoeff = -1"
   ]
  },
  {
   "cell_type": "code",
   "execution_count": 37,
   "metadata": {},
   "outputs": [],
   "source": [
    "# Every expression for V(s) can be written as a linear equation in terms of other V(s') and constant bias terms\n",
    "# Here, since there are 25 states, we will have 25 equations\n",
    "# Then the equation will be Ax = b where A is a 25 x 25 matrix and x, b are 25 x 1 matrices\n",
    "# We can observe a trend in equations of the corner cells vs the edge cells vs the middle cells\n",
    "\n",
    "for r in range(rows):\n",
    "    for c in range(cols):\n",
    "        indexin1d = c + r * cols\n",
    "        if r == 0 and c == 1:\n",
    "            b.append(-1 * 10)\n",
    "            A[indexin1d][indexin1d] = betweencoeff\n",
    "            A[indexin1d][sp1] = discount\n",
    "            \n",
    "        elif r == 0 and c == 3:\n",
    "            b.append(-1 * 5)\n",
    "            A[indexin1d, indexin1d] = betweencoeff\n",
    "            A[indexin1d, sp2] = discount\n",
    "            \n",
    "        elif r > 0 and r < rows - 1 and c > 0 and c < cols - 1: # between\n",
    "            b.append(bforbetween)\n",
    "            A[indexin1d, indexin1d] = betweencoeff\n",
    "            A[indexin1d, (c + 1) + r * cols] = discount * 0.25\n",
    "            A[indexin1d, c + (r + 1) * cols] = discount * 0.25\n",
    "            A[indexin1d, (c - 1) + r * cols] = discount * 0.25\n",
    "            A[indexin1d, c + (r - 1) * cols] = discount * 0.25\n",
    "            \n",
    "        elif r == 0 and c == 0: # corner tl\n",
    "            b.append(bforcorner)\n",
    "            A[indexin1d, indexin1d] = cornercoeff\n",
    "            A[indexin1d, (c + 1) + r * cols] = discount * 0.25\n",
    "            A[indexin1d, c + (r + 1) * cols] = discount * 0.25\n",
    "            \n",
    "        elif r == 0 and c == cols - 1: # corner rt \n",
    "            b.append(bforcorner)\n",
    "            A[indexin1d, indexin1d] = cornercoeff\n",
    "            A[indexin1d, (c - 1) + r * cols] = discount * 0.25\n",
    "            A[indexin1d, c + (r + 1) * cols] = discount * 0.25\n",
    "\n",
    "        elif r == rows - 1 and c == 0: # corner bl \n",
    "            b.append(bforcorner)\n",
    "            A[indexin1d, indexin1d] = cornercoeff\n",
    "            A[indexin1d, (c + 1) + r * cols] = discount * 0.25\n",
    "            A[indexin1d, c + (r - 1) * cols] = discount * 0.25\n",
    "        \n",
    "        elif r == rows - 1 and c == cols - 1: # corner bl \n",
    "            b.append(bforcorner)\n",
    "            A[indexin1d, indexin1d] = cornercoeff\n",
    "            A[indexin1d, (c - 1) + r * cols] = discount * 0.25\n",
    "            A[indexin1d, c + (r - 1) * cols] = discount * 0.25\n",
    "\n",
    "        elif r == 0:\n",
    "            b.append(bforedge)\n",
    "            A[indexin1d, indexin1d] = edgecoeff\n",
    "            A[indexin1d, (c + 1) + r * cols] = discount * 0.25\n",
    "            A[indexin1d, c + (r + 1) * cols] = discount * 0.25\n",
    "            A[indexin1d, (c - 1) + r * cols] = discount * 0.25\n",
    "\n",
    "        elif r == rows - 1:\n",
    "            b.append(bforedge)\n",
    "            A[indexin1d, indexin1d] = edgecoeff\n",
    "            A[indexin1d, (c + 1) + r * cols] = discount * 0.25\n",
    "            A[indexin1d, (c - 1) + r * cols] = discount * 0.25\n",
    "            A[indexin1d, c + (r - 1) * cols] = discount * 0.25\n",
    "\n",
    "        elif c == 0:\n",
    "            b.append(bforedge)\n",
    "            A[indexin1d, indexin1d] = edgecoeff\n",
    "            A[indexin1d, (c + 1) + r * cols] = discount * 0.25\n",
    "            A[indexin1d, c + (r + 1) * cols] = discount * 0.25\n",
    "            A[indexin1d, c + (r - 1) * cols] = discount * 0.25\n",
    "\n",
    "        elif c == cols - 1:\n",
    "            b.append(bforedge)\n",
    "            A[indexin1d, indexin1d] = edgecoeff\n",
    "            A[indexin1d, c + (r + 1) * cols] = discount * 0.25\n",
    "            A[indexin1d, (c - 1) + r * cols] = discount * 0.25\n",
    "            A[indexin1d, c + (r - 1) * cols] = discount * 0.25"
   ]
  },
  {
   "cell_type": "code",
   "execution_count": 38,
   "metadata": {},
   "outputs": [
    {
     "name": "stdout",
     "output_type": "stream",
     "text": [
      "[[ 3.3  8.8  4.4  5.3  1.5]\n",
      " [ 1.5  3.   2.3  1.9  0.5]\n",
      " [ 0.1  0.7  0.7  0.4 -0.4]\n",
      " [-1.  -0.4 -0.4 -0.6 -1.2]\n",
      " [-1.9 -1.3 -1.2 -1.4 -2. ]]\n"
     ]
    }
   ],
   "source": [
    "# Solve the system of linear equations using solver and print V(s) values \n",
    "result = np.linalg.solve(A, b)\n",
    "result = np.round(result, 1)\n",
    "print(result.reshape(rows,cols))"
   ]
  },
  {
   "cell_type": "code",
   "execution_count": null,
   "metadata": {},
   "outputs": [],
   "source": []
  }
 ],
 "metadata": {
  "kernelspec": {
   "display_name": "Python 3",
   "language": "python",
   "name": "python3"
  },
  "language_info": {
   "codemirror_mode": {
    "name": "ipython",
    "version": 3
   },
   "file_extension": ".py",
   "mimetype": "text/x-python",
   "name": "python",
   "nbconvert_exporter": "python",
   "pygments_lexer": "ipython3",
   "version": "3.5.2"
  }
 },
 "nbformat": 4,
 "nbformat_minor": 2
}
